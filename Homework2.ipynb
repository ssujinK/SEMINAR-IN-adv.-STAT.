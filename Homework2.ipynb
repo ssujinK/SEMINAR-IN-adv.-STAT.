{
 "cells": [
  {
   "cell_type": "code",
   "execution_count": null,
   "metadata": {
    "collapsed": true
   },
   "outputs": [],
   "source": []
  },
  {
   "cell_type": "markdown",
   "metadata": {},
   "source": [
    "# 고급통계학세미나HW2"
   ]
  },
  {
   "cell_type": "markdown",
   "metadata": {},
   "source": [
    "###  2018220083 김은빈"
   ]
  },
  {
   "cell_type": "code",
   "execution_count": null,
   "metadata": {
    "collapsed": true
   },
   "outputs": [],
   "source": []
  },
  {
   "cell_type": "code",
   "execution_count": null,
   "metadata": {
    "collapsed": true
   },
   "outputs": [],
   "source": []
  },
  {
   "cell_type": "markdown",
   "metadata": {},
   "source": [
    "#### (1) R for Data Science 의 flight 데이터를 dplyr 과 ggplot 을 활용하여 시각화 시키고, 해당 그래프를 요약하는 한 문장의 설명을 달 것.\n",
    "- 목표: 그림은 이쁘게, 설명은 그림을 명확하게 설명할 수 있도록"
   ]
  },
  {
   "cell_type": "code",
   "execution_count": 1,
   "metadata": {},
   "outputs": [
    {
     "name": "stderr",
     "output_type": "stream",
     "text": [
      "Registered S3 methods overwritten by 'ggplot2':\n",
      "  method         from \n",
      "  [.quosures     rlang\n",
      "  c.quosures     rlang\n",
      "  print.quosures rlang\n",
      "\n",
      "Attaching package: 'dplyr'\n",
      "\n",
      "The following objects are masked from 'package:stats':\n",
      "\n",
      "    filter, lag\n",
      "\n",
      "The following objects are masked from 'package:base':\n",
      "\n",
      "    intersect, setdiff, setequal, union\n",
      "\n"
     ]
    },
    {
     "data": {
      "text/html": [
       "<table>\n",
       "<thead><tr><th scope=col>dest</th><th scope=col>n</th></tr></thead>\n",
       "<tbody>\n",
       "\t<tr><td>ATL  </td><td>17215</td></tr>\n",
       "\t<tr><td>BOS  </td><td>15508</td></tr>\n",
       "\t<tr><td>CLT  </td><td>14064</td></tr>\n",
       "\t<tr><td>FLL  </td><td>12055</td></tr>\n",
       "\t<tr><td>LAX  </td><td>16174</td></tr>\n",
       "\t<tr><td>MCO  </td><td>14082</td></tr>\n",
       "\t<tr><td>MIA  </td><td>11728</td></tr>\n",
       "\t<tr><td>ORD  </td><td>17283</td></tr>\n",
       "\t<tr><td>SFO  </td><td>13331</td></tr>\n",
       "</tbody>\n",
       "</table>\n"
      ],
      "text/latex": [
       "\\begin{tabular}{r|ll}\n",
       " dest & n\\\\\n",
       "\\hline\n",
       "\t ATL   & 17215\\\\\n",
       "\t BOS   & 15508\\\\\n",
       "\t CLT   & 14064\\\\\n",
       "\t FLL   & 12055\\\\\n",
       "\t LAX   & 16174\\\\\n",
       "\t MCO   & 14082\\\\\n",
       "\t MIA   & 11728\\\\\n",
       "\t ORD   & 17283\\\\\n",
       "\t SFO   & 13331\\\\\n",
       "\\end{tabular}\n"
      ],
      "text/markdown": [
       "\n",
       "| dest | n |\n",
       "|---|---|\n",
       "| ATL   | 17215 |\n",
       "| BOS   | 15508 |\n",
       "| CLT   | 14064 |\n",
       "| FLL   | 12055 |\n",
       "| LAX   | 16174 |\n",
       "| MCO   | 14082 |\n",
       "| MIA   | 11728 |\n",
       "| ORD   | 17283 |\n",
       "| SFO   | 13331 |\n",
       "\n"
      ],
      "text/plain": [
       "  dest n    \n",
       "1 ATL  17215\n",
       "2 BOS  15508\n",
       "3 CLT  14064\n",
       "4 FLL  12055\n",
       "5 LAX  16174\n",
       "6 MCO  14082\n",
       "7 MIA  11728\n",
       "8 ORD  17283\n",
       "9 SFO  13331"
      ]
     },
     "metadata": {},
     "output_type": "display_data"
    },
    {
     "data": {
      "text/html": [
       "<table>\n",
       "<thead><tr><th scope=col>carrier</th></tr></thead>\n",
       "<tbody>\n",
       "\t<tr><td>UA</td></tr>\n",
       "\t<tr><td>UA</td></tr>\n",
       "\t<tr><td>AA</td></tr>\n",
       "\t<tr><td>B6</td></tr>\n",
       "\t<tr><td>DL</td></tr>\n",
       "\t<tr><td>UA</td></tr>\n",
       "\t<tr><td>B6</td></tr>\n",
       "\t<tr><td>EV</td></tr>\n",
       "\t<tr><td>B6</td></tr>\n",
       "\t<tr><td>AA</td></tr>\n",
       "\t<tr><td>B6</td></tr>\n",
       "\t<tr><td>B6</td></tr>\n",
       "\t<tr><td>UA</td></tr>\n",
       "\t<tr><td>UA</td></tr>\n",
       "\t<tr><td>AA</td></tr>\n",
       "\t<tr><td>B6</td></tr>\n",
       "\t<tr><td>UA</td></tr>\n",
       "\t<tr><td>B6</td></tr>\n",
       "\t<tr><td>MQ</td></tr>\n",
       "\t<tr><td>B6</td></tr>\n",
       "\t<tr><td>DL</td></tr>\n",
       "\t<tr><td>MQ</td></tr>\n",
       "\t<tr><td>AA</td></tr>\n",
       "\t<tr><td>DL</td></tr>\n",
       "\t<tr><td>UA</td></tr>\n",
       "\t<tr><td>MQ</td></tr>\n",
       "\t<tr><td>UA</td></tr>\n",
       "\t<tr><td>B6</td></tr>\n",
       "\t<tr><td>B6</td></tr>\n",
       "\t<tr><td>DL</td></tr>\n",
       "\t<tr><td>...</td></tr>\n",
       "\t<tr><td>EV</td></tr>\n",
       "\t<tr><td>EV</td></tr>\n",
       "\t<tr><td>B6</td></tr>\n",
       "\t<tr><td>EV</td></tr>\n",
       "\t<tr><td>MQ</td></tr>\n",
       "\t<tr><td>AA</td></tr>\n",
       "\t<tr><td>EV</td></tr>\n",
       "\t<tr><td>B6</td></tr>\n",
       "\t<tr><td>B6</td></tr>\n",
       "\t<tr><td>UA</td></tr>\n",
       "\t<tr><td>EV</td></tr>\n",
       "\t<tr><td>9E</td></tr>\n",
       "\t<tr><td>EV</td></tr>\n",
       "\t<tr><td>MQ</td></tr>\n",
       "\t<tr><td>EV</td></tr>\n",
       "\t<tr><td>B6</td></tr>\n",
       "\t<tr><td>UA</td></tr>\n",
       "\t<tr><td>B6</td></tr>\n",
       "\t<tr><td>B6</td></tr>\n",
       "\t<tr><td>B6</td></tr>\n",
       "\t<tr><td>B6</td></tr>\n",
       "\t<tr><td>B6</td></tr>\n",
       "\t<tr><td>B6</td></tr>\n",
       "\t<tr><td>B6</td></tr>\n",
       "\t<tr><td>EV</td></tr>\n",
       "\t<tr><td>9E</td></tr>\n",
       "\t<tr><td>9E</td></tr>\n",
       "\t<tr><td>MQ</td></tr>\n",
       "\t<tr><td>MQ</td></tr>\n",
       "\t<tr><td>MQ</td></tr>\n",
       "</tbody>\n",
       "</table>\n"
      ],
      "text/latex": [
       "\\begin{tabular}{r|l}\n",
       " carrier\\\\\n",
       "\\hline\n",
       "\t UA\\\\\n",
       "\t UA\\\\\n",
       "\t AA\\\\\n",
       "\t B6\\\\\n",
       "\t DL\\\\\n",
       "\t UA\\\\\n",
       "\t B6\\\\\n",
       "\t EV\\\\\n",
       "\t B6\\\\\n",
       "\t AA\\\\\n",
       "\t B6\\\\\n",
       "\t B6\\\\\n",
       "\t UA\\\\\n",
       "\t UA\\\\\n",
       "\t AA\\\\\n",
       "\t B6\\\\\n",
       "\t UA\\\\\n",
       "\t B6\\\\\n",
       "\t MQ\\\\\n",
       "\t B6\\\\\n",
       "\t DL\\\\\n",
       "\t MQ\\\\\n",
       "\t AA\\\\\n",
       "\t DL\\\\\n",
       "\t UA\\\\\n",
       "\t MQ\\\\\n",
       "\t UA\\\\\n",
       "\t B6\\\\\n",
       "\t B6\\\\\n",
       "\t DL\\\\\n",
       "\t ...\\\\\n",
       "\t EV\\\\\n",
       "\t EV\\\\\n",
       "\t B6\\\\\n",
       "\t EV\\\\\n",
       "\t MQ\\\\\n",
       "\t AA\\\\\n",
       "\t EV\\\\\n",
       "\t B6\\\\\n",
       "\t B6\\\\\n",
       "\t UA\\\\\n",
       "\t EV\\\\\n",
       "\t 9E\\\\\n",
       "\t EV\\\\\n",
       "\t MQ\\\\\n",
       "\t EV\\\\\n",
       "\t B6\\\\\n",
       "\t UA\\\\\n",
       "\t B6\\\\\n",
       "\t B6\\\\\n",
       "\t B6\\\\\n",
       "\t B6\\\\\n",
       "\t B6\\\\\n",
       "\t B6\\\\\n",
       "\t B6\\\\\n",
       "\t EV\\\\\n",
       "\t 9E\\\\\n",
       "\t 9E\\\\\n",
       "\t MQ\\\\\n",
       "\t MQ\\\\\n",
       "\t MQ\\\\\n",
       "\\end{tabular}\n"
      ],
      "text/markdown": [
       "\n",
       "| carrier |\n",
       "|---|\n",
       "| UA |\n",
       "| UA |\n",
       "| AA |\n",
       "| B6 |\n",
       "| DL |\n",
       "| UA |\n",
       "| B6 |\n",
       "| EV |\n",
       "| B6 |\n",
       "| AA |\n",
       "| B6 |\n",
       "| B6 |\n",
       "| UA |\n",
       "| UA |\n",
       "| AA |\n",
       "| B6 |\n",
       "| UA |\n",
       "| B6 |\n",
       "| MQ |\n",
       "| B6 |\n",
       "| DL |\n",
       "| MQ |\n",
       "| AA |\n",
       "| DL |\n",
       "| UA |\n",
       "| MQ |\n",
       "| UA |\n",
       "| B6 |\n",
       "| B6 |\n",
       "| DL |\n",
       "| ... |\n",
       "| EV |\n",
       "| EV |\n",
       "| B6 |\n",
       "| EV |\n",
       "| MQ |\n",
       "| AA |\n",
       "| EV |\n",
       "| B6 |\n",
       "| B6 |\n",
       "| UA |\n",
       "| EV |\n",
       "| 9E |\n",
       "| EV |\n",
       "| MQ |\n",
       "| EV |\n",
       "| B6 |\n",
       "| UA |\n",
       "| B6 |\n",
       "| B6 |\n",
       "| B6 |\n",
       "| B6 |\n",
       "| B6 |\n",
       "| B6 |\n",
       "| B6 |\n",
       "| EV |\n",
       "| 9E |\n",
       "| 9E |\n",
       "| MQ |\n",
       "| MQ |\n",
       "| MQ |\n",
       "\n"
      ],
      "text/plain": [
       "       carrier\n",
       "1      UA     \n",
       "2      UA     \n",
       "3      AA     \n",
       "4      B6     \n",
       "5      DL     \n",
       "6      UA     \n",
       "7      B6     \n",
       "8      EV     \n",
       "9      B6     \n",
       "10     AA     \n",
       "11     B6     \n",
       "12     B6     \n",
       "13     UA     \n",
       "14     UA     \n",
       "15     AA     \n",
       "16     B6     \n",
       "17     UA     \n",
       "18     B6     \n",
       "19     MQ     \n",
       "20     B6     \n",
       "21     DL     \n",
       "22     MQ     \n",
       "23     AA     \n",
       "24     DL     \n",
       "25     UA     \n",
       "26     MQ     \n",
       "27     UA     \n",
       "28     B6     \n",
       "29     B6     \n",
       "30     DL     \n",
       "...    ...    \n",
       "336747 EV     \n",
       "336748 EV     \n",
       "336749 B6     \n",
       "336750 EV     \n",
       "336751 MQ     \n",
       "336752 AA     \n",
       "336753 EV     \n",
       "336754 B6     \n",
       "336755 B6     \n",
       "336756 UA     \n",
       "336757 EV     \n",
       "336758 9E     \n",
       "336759 EV     \n",
       "336760 MQ     \n",
       "336761 EV     \n",
       "336762 B6     \n",
       "336763 UA     \n",
       "336764 B6     \n",
       "336765 B6     \n",
       "336766 B6     \n",
       "336767 B6     \n",
       "336768 B6     \n",
       "336769 B6     \n",
       "336770 B6     \n",
       "336771 EV     \n",
       "336772 9E     \n",
       "336773 9E     \n",
       "336774 MQ     \n",
       "336775 MQ     \n",
       "336776 MQ     "
      ]
     },
     "metadata": {},
     "output_type": "display_data"
    },
    {
     "data": {
      "text/html": [
       "<table>\n",
       "<thead><tr><th scope=col>carrier</th><th scope=col>n</th></tr></thead>\n",
       "<tbody>\n",
       "\t<tr><td>9E   </td><td>18460</td></tr>\n",
       "\t<tr><td>AA   </td><td>32729</td></tr>\n",
       "\t<tr><td>AS   </td><td>  714</td></tr>\n",
       "\t<tr><td>B6   </td><td>54635</td></tr>\n",
       "\t<tr><td>DL   </td><td>48110</td></tr>\n",
       "\t<tr><td>EV   </td><td>54173</td></tr>\n",
       "\t<tr><td>F9   </td><td>  685</td></tr>\n",
       "\t<tr><td>FL   </td><td> 3260</td></tr>\n",
       "\t<tr><td>HA   </td><td>  342</td></tr>\n",
       "\t<tr><td>MQ   </td><td>26397</td></tr>\n",
       "\t<tr><td>OO   </td><td>   32</td></tr>\n",
       "\t<tr><td>UA   </td><td>58665</td></tr>\n",
       "\t<tr><td>US   </td><td>20536</td></tr>\n",
       "\t<tr><td>VX   </td><td> 5162</td></tr>\n",
       "\t<tr><td>WN   </td><td>12275</td></tr>\n",
       "\t<tr><td>YV   </td><td>  601</td></tr>\n",
       "</tbody>\n",
       "</table>\n"
      ],
      "text/latex": [
       "\\begin{tabular}{r|ll}\n",
       " carrier & n\\\\\n",
       "\\hline\n",
       "\t 9E    & 18460\\\\\n",
       "\t AA    & 32729\\\\\n",
       "\t AS    &   714\\\\\n",
       "\t B6    & 54635\\\\\n",
       "\t DL    & 48110\\\\\n",
       "\t EV    & 54173\\\\\n",
       "\t F9    &   685\\\\\n",
       "\t FL    &  3260\\\\\n",
       "\t HA    &   342\\\\\n",
       "\t MQ    & 26397\\\\\n",
       "\t OO    &    32\\\\\n",
       "\t UA    & 58665\\\\\n",
       "\t US    & 20536\\\\\n",
       "\t VX    &  5162\\\\\n",
       "\t WN    & 12275\\\\\n",
       "\t YV    &   601\\\\\n",
       "\\end{tabular}\n"
      ],
      "text/markdown": [
       "\n",
       "| carrier | n |\n",
       "|---|---|\n",
       "| 9E    | 18460 |\n",
       "| AA    | 32729 |\n",
       "| AS    |   714 |\n",
       "| B6    | 54635 |\n",
       "| DL    | 48110 |\n",
       "| EV    | 54173 |\n",
       "| F9    |   685 |\n",
       "| FL    |  3260 |\n",
       "| HA    |   342 |\n",
       "| MQ    | 26397 |\n",
       "| OO    |    32 |\n",
       "| UA    | 58665 |\n",
       "| US    | 20536 |\n",
       "| VX    |  5162 |\n",
       "| WN    | 12275 |\n",
       "| YV    |   601 |\n",
       "\n"
      ],
      "text/plain": [
       "   carrier n    \n",
       "1  9E      18460\n",
       "2  AA      32729\n",
       "3  AS        714\n",
       "4  B6      54635\n",
       "5  DL      48110\n",
       "6  EV      54173\n",
       "7  F9        685\n",
       "8  FL       3260\n",
       "9  HA        342\n",
       "10 MQ      26397\n",
       "11 OO         32\n",
       "12 UA      58665\n",
       "13 US      20536\n",
       "14 VX       5162\n",
       "15 WN      12275\n",
       "16 YV        601"
      ]
     },
     "metadata": {},
     "output_type": "display_data"
    },
    {
     "data": {
      "text/html": [
       "<table>\n",
       "<thead><tr><th scope=col>carrier</th><th scope=col>n</th><th scope=col>prop</th></tr></thead>\n",
       "<tbody>\n",
       "\t<tr><td>9E   </td><td>18460</td><td> 6   </td></tr>\n",
       "\t<tr><td>AA   </td><td>32729</td><td>10   </td></tr>\n",
       "\t<tr><td>B6   </td><td>54635</td><td>17   </td></tr>\n",
       "\t<tr><td>DL   </td><td>48110</td><td>15   </td></tr>\n",
       "\t<tr><td>EV   </td><td>54173</td><td>17   </td></tr>\n",
       "\t<tr><td>MQ   </td><td>26397</td><td> 8   </td></tr>\n",
       "\t<tr><td>UA   </td><td>58665</td><td>19   </td></tr>\n",
       "\t<tr><td>US   </td><td>20536</td><td> 7   </td></tr>\n",
       "</tbody>\n",
       "</table>\n"
      ],
      "text/latex": [
       "\\begin{tabular}{r|lll}\n",
       " carrier & n & prop\\\\\n",
       "\\hline\n",
       "\t 9E    & 18460 &  6   \\\\\n",
       "\t AA    & 32729 & 10   \\\\\n",
       "\t B6    & 54635 & 17   \\\\\n",
       "\t DL    & 48110 & 15   \\\\\n",
       "\t EV    & 54173 & 17   \\\\\n",
       "\t MQ    & 26397 &  8   \\\\\n",
       "\t UA    & 58665 & 19   \\\\\n",
       "\t US    & 20536 &  7   \\\\\n",
       "\\end{tabular}\n"
      ],
      "text/markdown": [
       "\n",
       "| carrier | n | prop |\n",
       "|---|---|---|\n",
       "| 9E    | 18460 |  6    |\n",
       "| AA    | 32729 | 10    |\n",
       "| B6    | 54635 | 17    |\n",
       "| DL    | 48110 | 15    |\n",
       "| EV    | 54173 | 17    |\n",
       "| MQ    | 26397 |  8    |\n",
       "| UA    | 58665 | 19    |\n",
       "| US    | 20536 |  7    |\n",
       "\n"
      ],
      "text/plain": [
       "  carrier n     prop\n",
       "1 9E      18460  6  \n",
       "2 AA      32729 10  \n",
       "3 B6      54635 17  \n",
       "4 DL      48110 15  \n",
       "5 EV      54173 17  \n",
       "6 MQ      26397  8  \n",
       "7 UA      58665 19  \n",
       "8 US      20536  7  "
      ]
     },
     "metadata": {},
     "output_type": "display_data"
    },
    {
     "name": "stderr",
     "output_type": "stream",
     "text": [
      "\n",
      "Attaching package: 'data.table'\n",
      "\n",
      "The following objects are masked from 'package:dplyr':\n",
      "\n",
      "    between, first, last\n",
      "\n",
      "------------------------------------------------------------------------------\n",
      "You have loaded plyr after dplyr - this is likely to cause problems.\n",
      "If you need functions from both plyr and dplyr, please load plyr first, then dplyr:\n",
      "library(plyr); library(dplyr)\n",
      "------------------------------------------------------------------------------\n",
      "\n",
      "Attaching package: 'plyr'\n",
      "\n",
      "The following objects are masked from 'package:dplyr':\n",
      "\n",
      "    arrange, count, desc, failwith, id, mutate, rename, summarise,\n",
      "    summarize\n",
      "\n"
     ]
    },
    {
     "data": {
      "image/png": "[encoded data removed]",
      "text/plain": [
       "plot without title"
      ]
     },
     "metadata": {},
     "output_type": "display_data"
    }
   ],
   "source": [
    "\n",
    "library(ggplot2)\n",
    "library(dplyr)\n",
    "\n",
    "library(nycflights13)\n",
    "\n",
    "\n",
    "flights_df <- tbl_df(flights)\n",
    "\n",
    "a=flights %>% group_by(dest) %>% summarise(n = n())\n",
    "a4 <- filter(a, n > 10000)\n",
    "# a4\n",
    "flights %>% select(carrier)\n",
    "\n",
    "ac = flights %>% group_by(carrier) %>% dplyr::summarise(n = n())\n",
    "\n",
    "# ac\n",
    "ac2<-ac %>% select(carrier,n)%>%filter(n>15000) %>%\n",
    "  mutate(prop=round(n/sum(n),2)*100)%>%data.frame()\n",
    "# ac2\n",
    "\n",
    "\n",
    "ac2$pos <- with(ac2, ave(n, carrier, FUN = function(x) cumsum(x) - 0.35*x))\n",
    "\n",
    "# with the data.table package\n",
    "library(data.table)\n",
    "setDT(ac2)\n",
    "ac2 <- ac2[, pos:=cumsum(n)-0.35*n, by=\"carrier\"]\n",
    "\n",
    "# with the plyr package\n",
    "library(plyr)\n",
    "ac2 <- ddply(ac2, .(carrier), transform, pos=cumsum(n)-0.35*n)\n",
    "\n",
    "# with the dplyr package\n",
    "library(dplyr)\n",
    "ac2 <- ac2 %>% group_by(carrier) %>% mutate(pos=cumsum(n)-0.35*n)\n",
    "\n",
    " \n",
    "\n",
    "ggplot(ac2,aes(x=\"\",y=n,fill=carrier))+\n",
    "  ggtitle(\"항공사별 상위8개의 이용 비율 시각화  \") + \n",
    "  xlab(\"원형 그래프 \") + \n",
    "  geom_bar(stat=\"identity\",width=2)+\n",
    "  coord_polar(theta = \"y\")+\n",
    "  geom_text(aes(x=\"\", y=pos,\n",
    "                label = paste0(round(n / sum(n) * 100, 1), \"%\")))\n"
   ]
  },
  {
   "cell_type": "code",
   "execution_count": null,
   "metadata": {
    "collapsed": true
   },
   "outputs": [],
   "source": []
  },
  {
   "cell_type": "code",
   "execution_count": null,
   "metadata": {
    "collapsed": true
   },
   "outputs": [],
   "source": []
  },
  {
   "cell_type": "markdown",
   "metadata": {},
   "source": [
    "#### (2) list compression을 사용하여 1~100 사이의 수중 3의 배수를 나열하라"
   ]
  },
  {
   "cell_type": "code",
   "execution_count": 2,
   "metadata": {},
   "outputs": [
    {
     "ename": "ERROR",
     "evalue": "Error in parse(text = x, srcfile = src): <text>:2:8: 예상하지 못한 기호(symbol)입니다.\n1: # 방법 1 \n2: import numpy\n          ^\n",
     "output_type": "error",
     "traceback": [
      "Error in parse(text = x, srcfile = src): <text>:2:8: 예상하지 못한 기호(symbol)입니다.\n1: # 방법 1 \n2: import numpy\n          ^\nTraceback:\n"
     ]
    }
   ],
   "source": [
    "# 방법 1 \n",
    "import numpy as np\n",
    "\n",
    "Eun= np.array([x * 3 for x in range(1,34)])\n",
    "\n",
    "print(\" 방법 1 \",\"\\n\",\"1~100 사이의 수중 3의 배수는 : \",Eun)\n"
   ]
  },
  {
   "cell_type": "code",
   "execution_count": 9,
   "metadata": {},
   "outputs": [
    {
     "name": "stdout",
     "output_type": "stream",
     "text": [
      " 방법 2  \n",
      " 1~100 사이의 수중 3의 배수는 :  [ 3  6  9 12 15 18 21 24 27 30 33 36 39 42 45 48 51 54 57 60 63 66 69 72 75\n",
      " 78 81 84 87 90 93 96 99]\n"
     ]
    }
   ],
   "source": [
    "# 방법 2\n",
    "from math import sqrt\n",
    "Been =np.array( [x for x in range(1,101) if x%3 == 0] ) \n",
    "\n",
    "print(\" 방법 2 \",\"\\n\",\"1~100 사이의 수중 3의 배수는 : \",Been)\n"
   ]
  },
  {
   "cell_type": "markdown",
   "metadata": {},
   "source": [
    "#### (3) ids.txt 에 있는 사람들의 데이터만 new_data.txt에 저장하라"
   ]
  },
  {
   "cell_type": "code",
   "execution_count": null,
   "metadata": {
    "collapsed": true
   },
   "outputs": [],
   "source": []
  },
  {
   "cell_type": "code",
   "execution_count": 11,
   "metadata": {
    "collapsed": true
   },
   "outputs": [],
   "source": [
    "ids = []\n",
    "with open('data/ids.txt', 'r') as f :\n",
    "    for line in f :\n",
    "        ids.append(line.strip())"
   ]
  },
  {
   "cell_type": "code",
   "execution_count": 51,
   "metadata": {},
   "outputs": [],
   "source": [
    "with open('data/new_data.txt', \"w\") as f:\n",
    "    \n",
    "    f.write(\"data1 : \\n\\n\")\n",
    "    with open('data/data1.txt', \"r\") as data1:\n",
    "        \n",
    "        for item in data1: \n",
    "            ID=item.strip().split()[0]\n",
    "            if ID in ids:\n",
    "                f.write(item)\n",
    "    f.write(\"\\n\\n\")            \n",
    "    \n",
    "    with open('data/data2.txt', \"r\") as data2:\n",
    "        f.write(\"data2 : \\n\\n\")\n",
    "        \n",
    "        for item in data2:\n",
    "            ID=item.strip().split()[0]\n",
    "            if ID in ids:\n",
    "                f.write(item)\n",
    "    f.write(\"\\n\\n\")\n",
    "    f.write(\"i.e. \\n\")\n",
    "    f.write(\"total : \\n\")\n",
    "    with open('data/data1.txt', \"r\") as data1:\n",
    "        \n",
    "        for item in data1: \n",
    "            ID=item.strip().split()[0]\n",
    "            if ID in ids:\n",
    "                f.write(item)          \n",
    "    with open('data/data2.txt', \"r\") as data2:\n",
    "        f.write(\"\\n\")\n",
    "        for item in data2:\n",
    "            ID=item.strip().split()[0]\n",
    "            if ID in ids:\n",
    "                f.write(item)            "
   ]
  },
  {
   "cell_type": "markdown",
   "metadata": {},
   "source": [
    "#### (4) yield 를 사용한 Generator 를 만드는 연습을 해보기"
   ]
  },
  {
   "cell_type": "code",
   "execution_count": 23,
   "metadata": {
    "collapsed": true
   },
   "outputs": [],
   "source": [
    "import sys"
   ]
  },
  {
   "cell_type": "code",
   "execution_count": 14,
   "metadata": {
    "collapsed": true
   },
   "outputs": [],
   "source": [
    "try : \n",
    "    os.mkdir(data)\n",
    "except :\n",
    "    pass"
   ]
  },
  {
   "cell_type": "code",
   "execution_count": 15,
   "metadata": {
    "collapsed": true
   },
   "outputs": [],
   "source": [
    "with open('data/Eun.txt', 'w') as f :\n",
    "    f.write('ID\\nEun\\nBeen\\nEunBeen\\nKimEunBeen\\n')"
   ]
  },
  {
   "cell_type": "code",
   "execution_count": 16,
   "metadata": {
    "collapsed": true
   },
   "outputs": [],
   "source": [
    "with open('data/Been.txt', 'w') as f :\n",
    "    f.write('ID\\tscore1\\tscore2\\tscore3\\nEun\\t1\\t3\\t1\\nBeen\\t1\\t3\\t3\\nEunBeen\\t1\\t1\\t1\\nEunBeen\\t1\\t1\\t2\\nKimEunBeen\\t1\\t3\\t2\\nEun\\t2\\t2\\t2\\nKimEunBeen\\t1\\t2\\t3\\nKimEunBeen\\t2\\t1\\t3\\nEunBeen\\t3\\t2\\t1\\nEun\\t3\\t1\\t2')"
   ]
  },
  {
   "cell_type": "code",
   "execution_count": 17,
   "metadata": {
    "collapsed": true
   },
   "outputs": [],
   "source": [
    "with open('data/EunBeen.txt', 'w') as f :\n",
    "    f.write('ID\\tscore1\\tscore2\\tscore3\\nEunBeen\\t2\\t2\\t2\\nBeen\\t2\\t1\\t3\\nEunBeen\\t1\\t1\\t1\\nKimEunBeen\\t1\\t3\\t2\\nKimEunBeen\\t1\\t3\\t3\\nEun\\t1\\t2\\t3\\nEun\\t3\\t3\\t3\\nKimEunBeen\\t3\\t2\\t1\\nEunBeen\\t1\\t3\\t2\\nEun\\t1\\t2\\t3')"
   ]
  },
  {
   "cell_type": "code",
   "execution_count": 18,
   "metadata": {
    "collapsed": true
   },
   "outputs": [],
   "source": [
    "EunBeen = 'data/EunBeen.txt'"
   ]
  },
  {
   "cell_type": "code",
   "execution_count": 19,
   "metadata": {
    "collapsed": true
   },
   "outputs": [],
   "source": [
    "def fgenerator(EunBeen, iter_option = 0) :\n",
    "    with open(EunBeen, 'r', encoding='utf-8') as f :\n",
    "        for idx, item in enumerate(f) :\n",
    "            ID, V1, V2, V3 = item.strip().split()\n",
    "            if iter_option == 0 :\n",
    "                yield ID\n",
    "            elif iter_option == 1 :\n",
    "                yield V1\n",
    "            elif iter_option == 2 :\n",
    "                yield V2\n",
    "            else :\n",
    "                yield V3\n"
   ]
  },
  {
   "cell_type": "code",
   "execution_count": 20,
   "metadata": {},
   "outputs": [
    {
     "name": "stdout",
     "output_type": "stream",
     "text": [
      "Wall time: 0 ns\n"
     ]
    }
   ],
   "source": [
    "%%time\n",
    "gen_from_EunBeen = fgenerator(EunBeen)"
   ]
  },
  {
   "cell_type": "code",
   "execution_count": 21,
   "metadata": {},
   "outputs": [
    {
     "data": {
      "text/plain": [
       "'ID'"
      ]
     },
     "execution_count": 21,
     "metadata": {},
     "output_type": "execute_result"
    }
   ],
   "source": [
    "next(gen_from_EunBeen)"
   ]
  },
  {
   "cell_type": "code",
   "execution_count": 24,
   "metadata": {},
   "outputs": [
    {
     "data": {
      "text/plain": [
       "88"
      ]
     },
     "execution_count": 24,
     "metadata": {},
     "output_type": "execute_result"
    }
   ],
   "source": [
    "sys.getsizeof(gen_from_EunBeen)"
   ]
  },
  {
   "cell_type": "code",
   "execution_count": 27,
   "metadata": {
    "collapsed": true
   },
   "outputs": [],
   "source": [
    "def freader(EunBeen, iter_option = 0) :\n",
    "    IDs = []\n",
    "    with open(EunBeen, 'r', encoding='utf-8') as f :\n",
    "        for idx, item in enumerate(f) :\n",
    "            ID, V1, V2, V3 = item.strip().split()\n",
    "            if iter_option == 0 :\n",
    "                IDs.append(ID)\n",
    "            elif iter_option == 1 :\n",
    "                IDs.append(V1)\n",
    "            elif iter_option == 2 :\n",
    "                IDs.append(V2)\n",
    "            else :\n",
    "                IDs.append(V3)\n",
    "    return IDs"
   ]
  },
  {
   "cell_type": "code",
   "execution_count": 28,
   "metadata": {},
   "outputs": [
    {
     "name": "stdout",
     "output_type": "stream",
     "text": [
      "Wall time: 998 µs\n"
     ]
    }
   ],
   "source": [
    "%%time\n",
    "res_EunBeen = freader(EunBeen)"
   ]
  },
  {
   "cell_type": "code",
   "execution_count": 29,
   "metadata": {},
   "outputs": [
    {
     "data": {
      "text/plain": [
       "192"
      ]
     },
     "execution_count": 29,
     "metadata": {},
     "output_type": "execute_result"
    }
   ],
   "source": [
    "sys.getsizeof(res_EunBeen)"
   ]
  },
  {
   "cell_type": "markdown",
   "metadata": {},
   "source": [
    "generator with class"
   ]
  },
  {
   "cell_type": "code",
   "execution_count": 30,
   "metadata": {
    "collapsed": true
   },
   "outputs": [],
   "source": [
    "class DataGenerator() : \n",
    "    def __init__(self, EunBeen, iter_option=0) :\n",
    "        self.EunBeen = EunBeen\n",
    "        self.iter_option = iter_option\n",
    "    \n",
    "    def __iter__(self) :\n",
    "        with open(EunBeen, 'r', encoding='utf-8') as f :\n",
    "            for idx, item in enumerate(f) :\n",
    "                ID, V1, V2, V3 = item.strip().split()\n",
    "                if self.iter_option == 0 :\n",
    "                    yield ID\n",
    "                elif self.iter_option == 1 :\n",
    "                    yield V1\n",
    "                elif self.iter_option == 2 :\n",
    "                    yield V2\n",
    "                else :\n",
    "                    yield V3\n",
    "    \n",
    "    def __len__(self) :\n",
    "        with open(EunBeen, 'r', encoding='utf-8') as f :\n",
    "            for idx, item in enumerate(f) :\n",
    "                pass\n",
    "            \n",
    "            return idx\n",
    "        "
   ]
  },
  {
   "cell_type": "code",
   "execution_count": 31,
   "metadata": {
    "collapsed": true
   },
   "outputs": [],
   "source": [
    "fnm = 'data/EunBeen.txt'"
   ]
  },
  {
   "cell_type": "code",
   "execution_count": 32,
   "metadata": {
    "collapsed": true
   },
   "outputs": [],
   "source": [
    "gen1_EunBeen = DataGenerator(EunBeen)"
   ]
  },
  {
   "cell_type": "code",
   "execution_count": 33,
   "metadata": {},
   "outputs": [
    {
     "data": {
      "text/plain": [
       "10"
      ]
     },
     "execution_count": 33,
     "metadata": {},
     "output_type": "execute_result"
    }
   ],
   "source": [
    "len(gen1_EunBeen)"
   ]
  },
  {
   "cell_type": "code",
   "execution_count": 35,
   "metadata": {},
   "outputs": [
    {
     "name": "stdout",
     "output_type": "stream",
     "text": [
      "ID\n",
      "EunBeen\n",
      "Been\n",
      "EunBeen\n",
      "KimEunBeen\n",
      "KimEunBeen\n",
      "Eun\n",
      "Eun\n",
      "KimEunBeen\n",
      "EunBeen\n",
      "Eun\n"
     ]
    }
   ],
   "source": [
    "for idx, item in enumerate(gen1_EunBeen) :\n",
    "    print(item)"
   ]
  },
  {
   "cell_type": "code",
   "execution_count": null,
   "metadata": {
    "collapsed": true
   },
   "outputs": [],
   "source": []
  },
  {
   "cell_type": "code",
   "execution_count": null,
   "metadata": {
    "collapsed": true
   },
   "outputs": [],
   "source": []
  }
 ],
 "metadata": {
  "anaconda-cloud": {},
  "kernelspec": {
   "display_name": "Python 3",
   "language": "python",
   "name": "python3"
  },
  "language_info": {
   "codemirror_mode": {
    "name": "ipython",
    "version": 3
   },
   "file_extension": ".py",
   "mimetype": "text/x-python",
   "name": "python",
   "nbconvert_exporter": "python",
   "pygments_lexer": "ipython3",
   "version": "3.7.4"
  }
 },
 "nbformat": 4,
 "nbformat_minor": 1
}
