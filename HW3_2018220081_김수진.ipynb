{
  "nbformat": 4,
  "nbformat_minor": 0,
  "metadata": {
    "colab": {
      "name": "HW3_2018220081 김수진",
      "provenance": [],
      "collapsed_sections": [],
      "include_colab_link": true
    },
    "kernelspec": {
      "name": "python3",
      "display_name": "Python 3"
    },
    "accelerator": "GPU"
  },
  "cells": [
    {
      "cell_type": "markdown",
      "metadata": {
        "id": "view-in-github",
        "colab_type": "text"
      },
      "source": [
        "<a href=\"https://colab.research.google.com/github/ssujinK/SEMINAR-IN-adv.-STAT./blob/master/HW3_2018220081_%EA%B9%80%EC%88%98%EC%A7%84.ipynb\" target=\"_parent\"><img src=\"https://colab.research.google.com/assets/colab-badge.svg\" alt=\"Open In Colab\"/></a>"
      ]
    },
    {
      "cell_type": "markdown",
      "metadata": {
        "id": "9LHa7PDmfrBl",
        "colab_type": "text"
      },
      "source": [
        "# **3-1**\n",
        "### Fashion Mnist 데이터를 잘 적합시키는 CNN 기반 모형 찾기"
      ]
    },
    {
      "cell_type": "code",
      "metadata": {
        "id": "u99SNY-vZyVb",
        "colab_type": "code",
        "outputId": "d3b2324e-8d88-4239-b0b2-91582afad3e1",
        "colab": {
          "base_uri": "https://localhost:8080/",
          "height": 34
        }
      },
      "source": [
        "try:\n",
        "  # Colab only\n",
        "  %tensorflow_version 2.x\n",
        "except Exception:\n",
        "  pass"
      ],
      "execution_count": 23,
      "outputs": [
        {
          "output_type": "stream",
          "text": [
            "TensorFlow is already loaded. Please restart the runtime to change versions.\n"
          ],
          "name": "stdout"
        }
      ]
    },
    {
      "cell_type": "code",
      "metadata": {
        "id": "lQ9fN49DUasM",
        "colab_type": "code",
        "outputId": "0c3286c0-b3dc-4a11-d156-a220b57d83a9",
        "colab": {
          "base_uri": "https://localhost:8080/",
          "height": 34
        }
      },
      "source": [
        "from __future__ import absolute_import, division, print_function, unicode_literals, unicode_literals\n",
        "\n",
        "import tensorflow as tf\n",
        "from tensorflow import keras\n",
        "\n",
        "import numpy as np\n",
        "import matplotlib.pyplot as plt\n",
        "\n",
        "print(tf.__version__)"
      ],
      "execution_count": 24,
      "outputs": [
        {
          "output_type": "stream",
          "text": [
            "2.0.0-rc1\n"
          ],
          "name": "stdout"
        }
      ]
    },
    {
      "cell_type": "code",
      "metadata": {
        "id": "pAsbpxhfQYRv",
        "colab_type": "code",
        "outputId": "9437c244-69fb-41cf-9d3a-e3a6ed70dc5e",
        "colab": {
          "base_uri": "https://localhost:8080/",
          "height": 151
        }
      },
      "source": [
        "fashion_mnist = keras.datasets.fashion_mnist\n",
        "\n",
        "(train_images, train_labels), (test_images, test_labels) = fashion_mnist.load_data()"
      ],
      "execution_count": 25,
      "outputs": [
        {
          "output_type": "stream",
          "text": [
            "Downloading data from https://storage.googleapis.com/tensorflow/tf-keras-datasets/train-labels-idx1-ubyte.gz\n",
            "32768/29515 [=================================] - 0s 0us/step\n",
            "Downloading data from https://storage.googleapis.com/tensorflow/tf-keras-datasets/train-images-idx3-ubyte.gz\n",
            "26427392/26421880 [==============================] - 0s 0us/step\n",
            "Downloading data from https://storage.googleapis.com/tensorflow/tf-keras-datasets/t10k-labels-idx1-ubyte.gz\n",
            "8192/5148 [===============================================] - 0s 0us/step\n",
            "Downloading data from https://storage.googleapis.com/tensorflow/tf-keras-datasets/t10k-images-idx3-ubyte.gz\n",
            "4423680/4422102 [==============================] - 0s 0us/step\n"
          ],
          "name": "stdout"
        }
      ]
    },
    {
      "cell_type": "code",
      "metadata": {
        "id": "l7pIaHkkUixW",
        "colab_type": "code",
        "colab": {}
      },
      "source": [
        "class_names = ['T-shirt/top', 'Trouser', 'Pullover', 'Dress', 'Coat', 'Sandal', 'Shirt', 'Sneaker', 'Bag', 'Ankle boot']"
      ],
      "execution_count": 0,
      "outputs": []
    },
    {
      "cell_type": "code",
      "metadata": {
        "id": "WX3e-Zb0Uiu_",
        "colab_type": "code",
        "outputId": "8e3263b0-f7c7-441d-d825-80a91c648a7b",
        "colab": {
          "base_uri": "https://localhost:8080/",
          "height": 34
        }
      },
      "source": [
        "print(train_images.shape, test_images.shape)"
      ],
      "execution_count": 29,
      "outputs": [
        {
          "output_type": "stream",
          "text": [
            "(60000, 28, 28) (10000, 28, 28)\n"
          ],
          "name": "stdout"
        }
      ]
    },
    {
      "cell_type": "code",
      "metadata": {
        "id": "iJ2Jd3lcUoTW",
        "colab_type": "code",
        "colab": {}
      },
      "source": [
        "train_images = train_images / 255.0\n",
        "\n",
        "test_images = test_images / 255.0"
      ],
      "execution_count": 0,
      "outputs": []
    },
    {
      "cell_type": "code",
      "metadata": {
        "id": "nJDVE_qCVf_f",
        "colab_type": "code",
        "colab": {}
      },
      "source": [
        "# Reshpae\n",
        "train_images = train_images.reshape(train_images.shape[0], 28, 28, 1)\n",
        "test_images = test_images.reshape(test_images.shape[0], 28, 28, 1)"
      ],
      "execution_count": 0,
      "outputs": []
    },
    {
      "cell_type": "code",
      "metadata": {
        "id": "-Sod_h3GaUU6",
        "colab_type": "code",
        "colab": {}
      },
      "source": [
        "from tensorflow.keras.layers import Dense, Flatten, Conv2D, MaxPooling2D, AveragePooling2D\n",
        "from tensorflow.keras import Sequential"
      ],
      "execution_count": 0,
      "outputs": []
    },
    {
      "cell_type": "code",
      "metadata": {
        "id": "dyEh5HsOb49G",
        "colab_type": "code",
        "outputId": "2f62c6ca-4f00-4e0f-da04-91dd67a7aafe",
        "colab": {
          "base_uri": "https://localhost:8080/",
          "height": 420
        }
      },
      "source": [
        "# Modeling\n",
        "\n",
        "model12 = Sequential()\n",
        "\n",
        "model12.add(Conv2D(input_shape = (28,28,1),filters = 16, kernel_size = (5,5),  strides = (1,1), padding='valid', activation ='relu') )\n",
        "model12.add(MaxPooling2D(pool_size = (2,2), strides = (1,1), padding = 'valid') )\n",
        "model12.add(Conv2D(16, kernel_size = (5,5), strides = (1,1), padding='valid', activation ='relu') )\n",
        "model12.add(AveragePooling2D(pool_size = (2,2), strides = (2, 2), padding = 'valid') )\n",
        "model12.add(Conv2D(120, kernel_size=(5, 5), strides=(1, 1), activation='tanh', padding='valid'))\n",
        "model12.add(Flatten())\n",
        "model12.add(Dense(50, activation = 'relu'))\n",
        "model12.add(Dense(10, activation = 'softmax'))\n",
        "\n",
        "model12.summary()"
      ],
      "execution_count": 33,
      "outputs": [
        {
          "output_type": "stream",
          "text": [
            "Model: \"sequential_4\"\n",
            "_________________________________________________________________\n",
            "Layer (type)                 Output Shape              Param #   \n",
            "=================================================================\n",
            "conv2d_12 (Conv2D)           (None, 24, 24, 16)        416       \n",
            "_________________________________________________________________\n",
            "max_pooling2d_4 (MaxPooling2 (None, 23, 23, 16)        0         \n",
            "_________________________________________________________________\n",
            "conv2d_13 (Conv2D)           (None, 19, 19, 16)        6416      \n",
            "_________________________________________________________________\n",
            "average_pooling2d_4 (Average (None, 9, 9, 16)          0         \n",
            "_________________________________________________________________\n",
            "conv2d_14 (Conv2D)           (None, 5, 5, 120)         48120     \n",
            "_________________________________________________________________\n",
            "flatten_4 (Flatten)          (None, 3000)              0         \n",
            "_________________________________________________________________\n",
            "dense_8 (Dense)              (None, 50)                150050    \n",
            "_________________________________________________________________\n",
            "dense_9 (Dense)              (None, 10)                510       \n",
            "=================================================================\n",
            "Total params: 205,512\n",
            "Trainable params: 205,512\n",
            "Non-trainable params: 0\n",
            "_________________________________________________________________\n"
          ],
          "name": "stdout"
        }
      ]
    },
    {
      "cell_type": "code",
      "metadata": {
        "id": "PpMIFnQDUz72",
        "colab_type": "code",
        "colab": {}
      },
      "source": [
        "# Compile\n",
        "model12.compile(optimizer = 'adam',\n",
        "              loss = 'sparse_categorical_crossentropy',\n",
        "              metrics = ['accuracy'])"
      ],
      "execution_count": 0,
      "outputs": []
    },
    {
      "cell_type": "code",
      "metadata": {
        "id": "iZOjLcChdqWH",
        "colab_type": "code",
        "outputId": "9c6ad3cd-dd26-432c-ec29-abbc6bf687ce",
        "colab": {
          "base_uri": "https://localhost:8080/",
          "height": 218
        }
      },
      "source": [
        "# Fitting\n",
        "model12.fit(train_images, train_labels, epochs = 5)"
      ],
      "execution_count": 35,
      "outputs": [
        {
          "output_type": "stream",
          "text": [
            "Train on 60000 samples\n",
            "Epoch 1/5\n",
            "60000/60000 [==============================] - 13s 210us/sample - loss: 0.4851 - accuracy: 0.8230\n",
            "Epoch 2/5\n",
            "60000/60000 [==============================] - 12s 200us/sample - loss: 0.3299 - accuracy: 0.8792\n",
            "Epoch 3/5\n",
            "60000/60000 [==============================] - 12s 201us/sample - loss: 0.2927 - accuracy: 0.8917\n",
            "Epoch 4/5\n",
            "60000/60000 [==============================] - 12s 201us/sample - loss: 0.2699 - accuracy: 0.9003\n",
            "Epoch 5/5\n",
            "60000/60000 [==============================] - 12s 205us/sample - loss: 0.2500 - accuracy: 0.9071\n"
          ],
          "name": "stdout"
        },
        {
          "output_type": "execute_result",
          "data": {
            "text/plain": [
              "<tensorflow.python.keras.callbacks.History at 0x7fa9293c29e8>"
            ]
          },
          "metadata": {
            "tags": []
          },
          "execution_count": 35
        }
      ]
    },
    {
      "cell_type": "code",
      "metadata": {
        "id": "V3TUteGLUzyt",
        "colab_type": "code",
        "outputId": "6a9a2a3a-6dac-4aa8-d453-d7fe0f43aa09",
        "colab": {
          "base_uri": "https://localhost:8080/",
          "height": 67
        }
      },
      "source": [
        "# Accuracy\n",
        "test_loss, test_acc = model12.evaluate(test_images, test_labels, verbose = 2)\n",
        "\n",
        "print('\\nTest accuracy:', test_acc)"
      ],
      "execution_count": 36,
      "outputs": [
        {
          "output_type": "stream",
          "text": [
            "10000/1 - 1s - loss: 0.1854 - accuracy: 0.8959\n",
            "\n",
            "Test accuracy: 0.8959\n"
          ],
          "name": "stdout"
        }
      ]
    },
    {
      "cell_type": "code",
      "metadata": {
        "id": "TX0tq0Kdfjrp",
        "colab_type": "code",
        "colab": {
          "base_uri": "https://localhost:8080/",
          "height": 34
        },
        "outputId": "7dc77789-3af6-4024-8073-d6105c7dfde0"
      },
      "source": [
        "print('>   Image Classfier는 이 데이터셋에서 약', round(test_acc*100, 1), '%의 accuracy를 가집니다.')"
      ],
      "execution_count": 51,
      "outputs": [
        {
          "output_type": "stream",
          "text": [
            ">   Image Classfier는 이 데이터셋에서 약 89.6 %의 accuracy를 가집니다.\n"
          ],
          "name": "stdout"
        }
      ]
    },
    {
      "cell_type": "markdown",
      "metadata": {
        "id": "TfKMkSVjfk1E",
        "colab_type": "text"
      },
      "source": [
        "---\n",
        "---\n",
        "# **3-2**\n",
        "### Mnist 데이터를 잘 적합시키는 CNN 기반 모형 찾기"
      ]
    },
    {
      "cell_type": "code",
      "metadata": {
        "id": "eW08yNxDUihH",
        "colab_type": "code",
        "outputId": "b8c838f2-ec26-4872-aa44-a74ae154cde1",
        "colab": {
          "base_uri": "https://localhost:8080/",
          "height": 67
        }
      },
      "source": [
        "from __future__ import absolute_import, division, print_function, unicode_literals\n",
        "\n",
        "!pip install -q tensorflow-gpu==2.0.0-rc1\n",
        "import tensorflow as tf"
      ],
      "execution_count": 3,
      "outputs": [
        {
          "output_type": "stream",
          "text": [
            "\u001b[K     |████████████████████████████████| 380.5MB 43kB/s \n",
            "\u001b[K     |████████████████████████████████| 501kB 51.0MB/s \n",
            "\u001b[K     |████████████████████████████████| 4.3MB 42.2MB/s \n",
            "\u001b[?25h"
          ],
          "name": "stdout"
        }
      ]
    },
    {
      "cell_type": "code",
      "metadata": {
        "id": "BfYsUbHzUiec",
        "colab_type": "code",
        "colab": {
          "base_uri": "https://localhost:8080/",
          "height": 50
        },
        "outputId": "5ae71e03-c5b6-42f2-fc42-52e1f8982863"
      },
      "source": [
        "mnist = tf.keras.datasets.mnist\n",
        "\n",
        "(x_train, y_train), (x_test, y_test) = mnist.load_data()\n",
        "x_train, x_test = x_train / 255.0, x_test / 255.0\n",
        "\n",
        "# Reshape\n",
        "x_train = x_train.reshape(x_train.shape[0], 28, 28, 1)\n",
        "x_test = x_test.reshape(x_test.shape[0], 28, 28, 1)"
      ],
      "execution_count": 4,
      "outputs": [
        {
          "output_type": "stream",
          "text": [
            "Downloading data from https://storage.googleapis.com/tensorflow/tf-keras-datasets/mnist.npz\n",
            "11493376/11490434 [==============================] - 0s 0us/step\n"
          ],
          "name": "stdout"
        }
      ]
    },
    {
      "cell_type": "code",
      "metadata": {
        "id": "PT-sV46Vdth9",
        "colab_type": "code",
        "colab": {
          "base_uri": "https://localhost:8080/",
          "height": 420
        },
        "outputId": "20a6c21b-05c4-4b9d-f98c-503686c0a3da"
      },
      "source": [
        "# Modeling\n",
        "\n",
        "model21 = Sequential()\n",
        "\n",
        "model21.add(Conv2D(input_shape = (28,28,1),filters = 16, kernel_size = (5,5),  strides = (1,1), padding='valid', activation ='relu') )\n",
        "model21.add(MaxPooling2D(pool_size = (2,2), strides = (1,1), padding = 'same') )\n",
        "model21.add(Conv2D(16, kernel_size = (5,5), strides = (1,1), padding='valid', activation ='relu') )\n",
        "model21.add(AveragePooling2D(pool_size = (2,2), strides = (2, 2), padding = 'same') )\n",
        "model21.add(Conv2D(120, kernel_size=(5, 5), strides=(1, 1), activation='tanh', padding='valid'))\n",
        "model21.add(Flatten())\n",
        "model21.add(Dense(50, activation = 'relu'))\n",
        "model21.add(Dense(10, activation = 'softmax'))\n",
        "\n",
        "model21.summary()"
      ],
      "execution_count": 39,
      "outputs": [
        {
          "output_type": "stream",
          "text": [
            "Model: \"sequential_5\"\n",
            "_________________________________________________________________\n",
            "Layer (type)                 Output Shape              Param #   \n",
            "=================================================================\n",
            "conv2d_15 (Conv2D)           (None, 24, 24, 16)        416       \n",
            "_________________________________________________________________\n",
            "max_pooling2d_5 (MaxPooling2 (None, 24, 24, 16)        0         \n",
            "_________________________________________________________________\n",
            "conv2d_16 (Conv2D)           (None, 20, 20, 16)        6416      \n",
            "_________________________________________________________________\n",
            "average_pooling2d_5 (Average (None, 10, 10, 16)        0         \n",
            "_________________________________________________________________\n",
            "conv2d_17 (Conv2D)           (None, 6, 6, 120)         48120     \n",
            "_________________________________________________________________\n",
            "flatten_5 (Flatten)          (None, 4320)              0         \n",
            "_________________________________________________________________\n",
            "dense_10 (Dense)             (None, 50)                216050    \n",
            "_________________________________________________________________\n",
            "dense_11 (Dense)             (None, 10)                510       \n",
            "=================================================================\n",
            "Total params: 271,512\n",
            "Trainable params: 271,512\n",
            "Non-trainable params: 0\n",
            "_________________________________________________________________\n"
          ],
          "name": "stdout"
        }
      ]
    },
    {
      "cell_type": "code",
      "metadata": {
        "id": "VVVf2aZ9ejpz",
        "colab_type": "code",
        "colab": {}
      },
      "source": [
        "# Compile\n",
        "model21.compile(optimizer='adam',\n",
        "              loss='sparse_categorical_crossentropy',\n",
        "              metrics=['accuracy'])"
      ],
      "execution_count": 0,
      "outputs": []
    },
    {
      "cell_type": "code",
      "metadata": {
        "id": "GVgomh31cDhb",
        "colab_type": "code",
        "outputId": "1264ab23-2959-4609-f7e6-c233798d89e2",
        "colab": {
          "base_uri": "https://localhost:8080/",
          "height": 218
        }
      },
      "source": [
        "# Fitting\n",
        "model21.fit(x_train, y_train, epochs=5)"
      ],
      "execution_count": 42,
      "outputs": [
        {
          "output_type": "stream",
          "text": [
            "Train on 60000 samples\n",
            "Epoch 1/5\n",
            "60000/60000 [==============================] - 13s 214us/sample - loss: 0.1245 - accuracy: 0.9617\n",
            "Epoch 2/5\n",
            "60000/60000 [==============================] - 12s 203us/sample - loss: 0.0507 - accuracy: 0.9841\n",
            "Epoch 3/5\n",
            "60000/60000 [==============================] - 12s 203us/sample - loss: 0.0411 - accuracy: 0.9870\n",
            "Epoch 4/5\n",
            "60000/60000 [==============================] - 12s 204us/sample - loss: 0.0351 - accuracy: 0.9890\n",
            "Epoch 5/5\n",
            "60000/60000 [==============================] - 12s 203us/sample - loss: 0.0320 - accuracy: 0.9903\n"
          ],
          "name": "stdout"
        },
        {
          "output_type": "execute_result",
          "data": {
            "text/plain": [
              "<tensorflow.python.keras.callbacks.History at 0x7fa8dd2ed358>"
            ]
          },
          "metadata": {
            "tags": []
          },
          "execution_count": 42
        }
      ]
    },
    {
      "cell_type": "code",
      "metadata": {
        "id": "IhfyW3fqeg4j",
        "colab_type": "code",
        "outputId": "20f0409d-4c9f-4857-b2ea-ab15b6b632fb",
        "colab": {
          "base_uri": "https://localhost:8080/",
          "height": 67
        }
      },
      "source": [
        "testacc = model21.evaluate(x_test,  y_test, verbose=2)\n",
        "print('\\nTest accuracy:', testacc[1])"
      ],
      "execution_count": 43,
      "outputs": [
        {
          "output_type": "stream",
          "text": [
            "10000/1 - 1s - loss: 0.0187 - accuracy: 0.9886\n",
            "\n",
            "Test accuracy: 0.9886\n"
          ],
          "name": "stdout"
        }
      ]
    },
    {
      "cell_type": "code",
      "metadata": {
        "id": "UvL17HA5fJT0",
        "colab_type": "code",
        "colab": {
          "base_uri": "https://localhost:8080/",
          "height": 34
        },
        "outputId": "d95d2f86-0829-471d-b76b-109fb0b5e85d"
      },
      "source": [
        "print('>  Classfier는 이 데이터셋에서 약', round(testacc[1]*100, 1), '%의 accuracy를 가집니다.')"
      ],
      "execution_count": 52,
      "outputs": [
        {
          "output_type": "stream",
          "text": [
            ">  Classfier는 이 데이터셋에서 약 98.9 %의 accuracy를 가집니다.\n"
          ],
          "name": "stdout"
        }
      ]
    }
  ]
}