{
 "cells": [
  {
   "cell_type": "markdown",
   "metadata": {},
   "source": [
    "# 제목\n",
    "## 제목\n",
    "### 제목\n",
    "#### 제목\n",
    "##### 제목"
   ]
  },
  {
   "cell_type": "markdown",
   "metadata": {},
   "source": [
    "*이탤릭체* <br>\n",
    "_이것두 이탤릭체_  <br>\n",
    "**볼드체** <br>\n",
    "__이것두 볼드체__ <br>\n",
    "**_이건 이탤릭+볼드_** <br>\n",
    "~~취소선~~ <br>\n",
    "<u>언더라인</u>"
   ]
  },
  {
   "cell_type": "markdown",
   "metadata": {},
   "source": [
    "1. CH1\n",
    " - section1\n",
    " - section2\n",
    "2. CH2\n",
    " - section1\n",
    " - section2"
   ]
  },
  {
   "cell_type": "markdown",
   "metadata": {},
   "source": [
    "[GOOGLE](google.com) <br>\n",
    "[NAVER](naver.com) <br>\n",
    "<http://google.com> <br>\n",
    "<http://naver.com>"
   ]
  },
  {
   "cell_type": "markdown",
   "metadata": {},
   "source": [
    "![Kayak](http://www.gstatic.com/webp/gallery/2.jpg)  \n",
    "[Kayak](http://www.gstatic.com/webp/gallery/2.jpg)  "
   ]
  },
  {
   "cell_type": "markdown",
   "metadata": {},
   "source": [
    "` This is code` <br>\n",
    "``` This too ```\n"
   ]
  },
  {
   "cell_type": "markdown",
   "metadata": {},
   "source": [
    "| 값 | 의미 | 기본값 |\n",
    "|---|:---:|---:|\n",
    "| `static` | 유형(기준) 없음 / 배치 불가능 | `static` |\n",
    "| `relative` | 요소 자신을 기준으로 배치 |  |\n",
    "| `absolute` | 위치 상 부모(조상)요소를 기준으로 배치 |  |\n",
    "| `fixed` | 브라우저 창을 기준으로 배치 |  |"
   ]
  },
  {
   "cell_type": "markdown",
   "metadata": {},
   "source": [
    "값 | 의미 | 기본값\n",
    "---|:---:|---:\n",
    "`static` | 유형(기준) 없음 / 배치 불가능 | `static`\n",
    "`relative` | 요소 **자신**을 기준으로 배치 |\n",
    "`absolute` | 위치 상 **_부모_(조상)요소**를 기준으로 배치 |\n",
    "`fixed` | **브라우저 창**을 기준으로 배치 |"
   ]
  },
  {
   "cell_type": "markdown",
   "metadata": {},
   "source": [
    "> 인용문\n",
    ">> 중첩 인용 <br>\n",
    ">> 중첩 인용\n",
    ">>> 중중첩 인용"
   ]
  },
  {
   "cell_type": "markdown",
   "metadata": {},
   "source": [
    "<img width=\"150\" src=\"http://www.gstatic.com/webp/gallery/4.jpg\" alt=\"Prunus\" title=\"A Wild Cherry (Prunus avium) in flower\">\n",
    "\n",
    "![Prunus](http://www.gstatic.com/webp/gallery/4.jpg)"
   ]
  },
  {
   "cell_type": "markdown",
   "metadata": {},
   "source": [
    "--- \n",
    "*** \n",
    "___"
   ]
  },
  {
   "cell_type": "markdown",
   "metadata": {},
   "source": []
  },
  {
   "cell_type": "code",
   "execution_count": null,
   "metadata": {},
   "outputs": [],
   "source": []
  }
 ],
 "metadata": {
  "kernelspec": {
   "display_name": "Python 3",
   "language": "python",
   "name": "python3"
  },
  "language_info": {
   "codemirror_mode": {
    "name": "ipython",
    "version": 3
   },
   "file_extension": ".py",
   "mimetype": "text/x-python",
   "name": "python",
   "nbconvert_exporter": "python",
   "pygments_lexer": "ipython3",
   "version": "3.7.3"
  }
 },
 "nbformat": 4,
 "nbformat_minor": 2
}
