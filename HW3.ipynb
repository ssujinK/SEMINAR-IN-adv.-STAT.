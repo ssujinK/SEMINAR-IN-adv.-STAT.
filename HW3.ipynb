{
  "nbformat": 4,
  "nbformat_minor": 0,
  "metadata": {
    "colab": {
      "name": "HW3",
      "provenance": [],
      "collapsed_sections": [],
      "include_colab_link": true
    },
    "kernelspec": {
      "name": "python3",
      "display_name": "Python 3"
    }
  },
  "cells": [
    {
      "cell_type": "markdown",
      "metadata": {
        "id": "view-in-github",
        "colab_type": "text"
      },
      "source": [
        "<a href=\"https://colab.research.google.com/github/ssujinK/SEMINAR-IN-adv.-STAT./blob/master/HW3.ipynb\" target=\"_parent\"><img src=\"https://colab.research.google.com/assets/colab-badge.svg\" alt=\"Open In Colab\"/></a>"
      ]
    },
    {
      "cell_type": "markdown",
      "metadata": {
        "id": "9LHa7PDmfrBl",
        "colab_type": "text"
      },
      "source": [
        "# **3-1**\n",
        "### Fashion Mnist 데이터를 잘 적합시키는 CNN 기반 모형 찾기"
      ]
    },
    {
      "cell_type": "code",
      "metadata": {
        "id": "u99SNY-vZyVb",
        "colab_type": "code",
        "outputId": "97264785-613f-4abf-834c-63f1794d9823",
        "colab": {
          "base_uri": "https://localhost:8080/",
          "height": 35
        }
      },
      "source": [
        "try:\n",
        "  # Colab only\n",
        "  %tensorflow_version 2.x\n",
        "except Exception:\n",
        "  pass"
      ],
      "execution_count": 1,
      "outputs": [
        {
          "output_type": "stream",
          "text": [
            "TensorFlow 2.x selected.\n"
          ],
          "name": "stdout"
        }
      ]
    },
    {
      "cell_type": "code",
      "metadata": {
        "id": "lQ9fN49DUasM",
        "colab_type": "code",
        "outputId": "fd1e36b4-3f73-4f56-9811-e6ea83eec825",
        "colab": {
          "base_uri": "https://localhost:8080/",
          "height": 35
        }
      },
      "source": [
        "from __future__ import absolute_import, division, print_function, unicode_literals, unicode_literals\n",
        "\n",
        "import tensorflow as tf\n",
        "from tensorflow import keras\n",
        "\n",
        "import numpy as np\n",
        "import matplotlib.pyplot as plt\n",
        "\n",
        "print(tf.__version__)"
      ],
      "execution_count": 2,
      "outputs": [
        {
          "output_type": "stream",
          "text": [
            "2.0.0\n"
          ],
          "name": "stdout"
        }
      ]
    },
    {
      "cell_type": "code",
      "metadata": {
        "id": "pAsbpxhfQYRv",
        "colab_type": "code",
        "colab": {
          "base_uri": "https://localhost:8080/",
          "height": 161
        },
        "outputId": "277c5afa-bf2a-4514-ce02-3907879a6854"
      },
      "source": [
        "fashion_mnist = keras.datasets.fashion_mnist\n",
        "\n",
        "(train_images, train_labels), (test_images, test_labels) = fashion_mnist.load_data()"
      ],
      "execution_count": 3,
      "outputs": [
        {
          "output_type": "stream",
          "text": [
            "Downloading data from https://storage.googleapis.com/tensorflow/tf-keras-datasets/train-labels-idx1-ubyte.gz\n",
            "32768/29515 [=================================] - 0s 0us/step\n",
            "Downloading data from https://storage.googleapis.com/tensorflow/tf-keras-datasets/train-images-idx3-ubyte.gz\n",
            "26427392/26421880 [==============================] - 0s 0us/step\n",
            "Downloading data from https://storage.googleapis.com/tensorflow/tf-keras-datasets/t10k-labels-idx1-ubyte.gz\n",
            "8192/5148 [===============================================] - 0s 0us/step\n",
            "Downloading data from https://storage.googleapis.com/tensorflow/tf-keras-datasets/t10k-images-idx3-ubyte.gz\n",
            "4423680/4422102 [==============================] - 0s 0us/step\n"
          ],
          "name": "stdout"
        }
      ]
    },
    {
      "cell_type": "code",
      "metadata": {
        "id": "l7pIaHkkUixW",
        "colab_type": "code",
        "colab": {}
      },
      "source": [
        "class_names = ['T-shirt/top', 'Trouser', 'Pullover', 'Dress', 'Coat', 'Sandal', 'Shirt', 'Sneaker', 'Bag', 'Ankle boot']"
      ],
      "execution_count": 0,
      "outputs": []
    },
    {
      "cell_type": "code",
      "metadata": {
        "id": "WX3e-Zb0Uiu_",
        "colab_type": "code",
        "outputId": "72678b4a-c6ea-4d25-83c6-8cc54c660163",
        "colab": {
          "base_uri": "https://localhost:8080/",
          "height": 35
        }
      },
      "source": [
        "train_images.shape"
      ],
      "execution_count": 5,
      "outputs": [
        {
          "output_type": "execute_result",
          "data": {
            "text/plain": [
              "(60000, 28, 28)"
            ]
          },
          "metadata": {
            "tags": []
          },
          "execution_count": 5
        }
      ]
    },
    {
      "cell_type": "code",
      "metadata": {
        "id": "OtCMvZ26UkYw",
        "colab_type": "code",
        "outputId": "9ad8f79e-9329-476b-efbb-a63397d02f4e",
        "colab": {
          "base_uri": "https://localhost:8080/",
          "height": 35
        }
      },
      "source": [
        "train_labels"
      ],
      "execution_count": 6,
      "outputs": [
        {
          "output_type": "execute_result",
          "data": {
            "text/plain": [
              "array([9, 0, 0, ..., 3, 0, 5], dtype=uint8)"
            ]
          },
          "metadata": {
            "tags": []
          },
          "execution_count": 6
        }
      ]
    },
    {
      "cell_type": "code",
      "metadata": {
        "id": "gWJymwAnUisP",
        "colab_type": "code",
        "outputId": "1d44d774-0901-4913-9dac-bea745b5c80e",
        "colab": {
          "base_uri": "https://localhost:8080/",
          "height": 35
        }
      },
      "source": [
        "test_images.shape"
      ],
      "execution_count": 7,
      "outputs": [
        {
          "output_type": "execute_result",
          "data": {
            "text/plain": [
              "(10000, 28, 28)"
            ]
          },
          "metadata": {
            "tags": []
          },
          "execution_count": 7
        }
      ]
    },
    {
      "cell_type": "code",
      "metadata": {
        "id": "iJ2Jd3lcUoTW",
        "colab_type": "code",
        "colab": {}
      },
      "source": [
        "train_images = train_images / 255.0\n",
        "\n",
        "test_images = test_images / 255.0"
      ],
      "execution_count": 0,
      "outputs": []
    },
    {
      "cell_type": "code",
      "metadata": {
        "id": "nJDVE_qCVf_f",
        "colab_type": "code",
        "colab": {}
      },
      "source": [
        "train_images = train_images.reshape(train_images.shape[0], 28, 28, 1)\n",
        "test_images = test_images.reshape(test_images.shape[0], 28, 28, 1)"
      ],
      "execution_count": 0,
      "outputs": []
    },
    {
      "cell_type": "code",
      "metadata": {
        "id": "dyEh5HsOb49G",
        "colab_type": "code",
        "outputId": "20af86eb-185f-4af8-d4cd-396d0c59ddf3",
        "colab": {
          "base_uri": "https://localhost:8080/",
          "height": 449
        }
      },
      "source": [
        "from tensorflow.keras.layers import Dense, Flatten, Conv2D, MaxPooling2D, AveragePooling2D\n",
        "from tensorflow.keras import Sequential\n",
        "\n",
        "model = Sequential()\n",
        "\n",
        "model.add(Conv2D(input_shape = (28,28,1),filters = 16, kernel_size = (5,5),\n",
        "                 strides = (1,1), padding='valid', activation ='relu') )\n",
        "model.add(MaxPooling2D(pool_size = (2,2), strides = (1,1), padding = 'valid') )\n",
        "model.add(Conv2D(16, kernel_size = (5,5), strides = (1,1), padding='valid', activation ='relu') )\n",
        "model.add(AveragePooling2D(pool_size = (2,2), strides = (2, 2), padding = 'valid') )\n",
        "model.add(Conv2D(120, kernel_size=(5, 5), strides=(1, 1), activation='tanh', padding='valid'))\n",
        "model.add(Flatten())\n",
        "model.add(Dense(50, activation = 'relu'))\n",
        "model.add(Dense(10, activation = 'softmax'))\n",
        "\n",
        "model.summary()"
      ],
      "execution_count": 11,
      "outputs": [
        {
          "output_type": "stream",
          "text": [
            "Model: \"sequential_1\"\n",
            "_________________________________________________________________\n",
            "Layer (type)                 Output Shape              Param #   \n",
            "=================================================================\n",
            "conv2d_1 (Conv2D)            (None, 24, 24, 16)        416       \n",
            "_________________________________________________________________\n",
            "max_pooling2d (MaxPooling2D) (None, 23, 23, 16)        0         \n",
            "_________________________________________________________________\n",
            "conv2d_2 (Conv2D)            (None, 19, 19, 16)        6416      \n",
            "_________________________________________________________________\n",
            "average_pooling2d (AveragePo (None, 9, 9, 16)          0         \n",
            "_________________________________________________________________\n",
            "conv2d_3 (Conv2D)            (None, 5, 5, 120)         48120     \n",
            "_________________________________________________________________\n",
            "flatten (Flatten)            (None, 3000)              0         \n",
            "_________________________________________________________________\n",
            "dense (Dense)                (None, 50)                150050    \n",
            "_________________________________________________________________\n",
            "dense_1 (Dense)              (None, 10)                510       \n",
            "=================================================================\n",
            "Total params: 205,512\n",
            "Trainable params: 205,512\n",
            "Non-trainable params: 0\n",
            "_________________________________________________________________\n"
          ],
          "name": "stdout"
        }
      ]
    },
    {
      "cell_type": "code",
      "metadata": {
        "id": "PpMIFnQDUz72",
        "colab_type": "code",
        "colab": {}
      },
      "source": [
        "model.compile(optimizer = 'adam',\n",
        "              loss = 'sparse_categorical_crossentropy',\n",
        "              metrics = ['accuracy'])"
      ],
      "execution_count": 0,
      "outputs": []
    },
    {
      "cell_type": "code",
      "metadata": {
        "id": "iZOjLcChdqWH",
        "colab_type": "code",
        "outputId": "9cadec02-0414-4476-b67f-0c4fa35ba352",
        "colab": {
          "base_uri": "https://localhost:8080/",
          "height": 233
        }
      },
      "source": [
        "model.fit(train_images, train_labels, epochs = 5)"
      ],
      "execution_count": 13,
      "outputs": [
        {
          "output_type": "stream",
          "text": [
            "Train on 60000 samples\n",
            "Epoch 1/5\n",
            "60000/60000 [==============================] - 115s 2ms/sample - loss: 0.5004 - accuracy: 0.8166\n",
            "Epoch 2/5\n",
            "60000/60000 [==============================] - 114s 2ms/sample - loss: 0.3412 - accuracy: 0.8749\n",
            "Epoch 3/5\n",
            "60000/60000 [==============================] - 114s 2ms/sample - loss: 0.3058 - accuracy: 0.8873\n",
            "Epoch 4/5\n",
            "60000/60000 [==============================] - 114s 2ms/sample - loss: 0.2811 - accuracy: 0.8964\n",
            "Epoch 5/5\n",
            "60000/60000 [==============================] - 114s 2ms/sample - loss: 0.2621 - accuracy: 0.9023\n"
          ],
          "name": "stdout"
        },
        {
          "output_type": "execute_result",
          "data": {
            "text/plain": [
              "<tensorflow.python.keras.callbacks.History at 0x7f41707eb4a8>"
            ]
          },
          "metadata": {
            "tags": []
          },
          "execution_count": 13
        }
      ]
    },
    {
      "cell_type": "code",
      "metadata": {
        "id": "V3TUteGLUzyt",
        "colab_type": "code",
        "outputId": "9c86efdb-8d49-4de7-a3c5-76219bc6b566",
        "colab": {
          "base_uri": "https://localhost:8080/",
          "height": 71
        }
      },
      "source": [
        "test_loss, test_acc = model.evaluate(test_images, test_labels, verbose = 2)\n",
        "\n",
        "print('\\nTest accuracy:', test_acc)"
      ],
      "execution_count": 14,
      "outputs": [
        {
          "output_type": "stream",
          "text": [
            "10000/1 - 5s - loss: 0.1928 - accuracy: 0.8925\n",
            "\n",
            "Test accuracy: 0.8925\n"
          ],
          "name": "stdout"
        }
      ]
    },
    {
      "cell_type": "markdown",
      "metadata": {
        "id": "XfbfNI2vfAFN",
        "colab_type": "text"
      },
      "source": [
        "Image classifier는 이 데이터셋에서 약 89.3%의 accuracy를 가집니다."
      ]
    },
    {
      "cell_type": "markdown",
      "metadata": {
        "id": "TfKMkSVjfk1E",
        "colab_type": "text"
      },
      "source": [
        "---\n",
        "# **3-2**\n",
        "### Mnist 데이터를 잘 적합시키는 CNN 기반 모형 찾기"
      ]
    },
    {
      "cell_type": "code",
      "metadata": {
        "id": "eW08yNxDUihH",
        "colab_type": "code",
        "colab": {
          "base_uri": "https://localhost:8080/",
          "height": 71
        },
        "outputId": "efaf6d0e-9780-457d-d4a8-86131ecb13ae"
      },
      "source": [
        "from __future__ import absolute_import, division, print_function, unicode_literals\n",
        "\n",
        "!pip install -q tensorflow-gpu==2.0.0-rc1\n",
        "import tensorflow as tf"
      ],
      "execution_count": 15,
      "outputs": [
        {
          "output_type": "stream",
          "text": [
            "\u001b[K     |████████████████████████████████| 380.5MB 43kB/s \n",
            "\u001b[K     |████████████████████████████████| 4.3MB 29.2MB/s \n",
            "\u001b[K     |████████████████████████████████| 501kB 45.4MB/s \n",
            "\u001b[?25h"
          ],
          "name": "stdout"
        }
      ]
    },
    {
      "cell_type": "code",
      "metadata": {
        "id": "BfYsUbHzUiec",
        "colab_type": "code",
        "colab": {}
      },
      "source": [
        "mnist = tf.keras.datasets.mnist\n",
        "\n",
        "(x_train, y_train), (x_test, y_test) = mnist.load_data()\n",
        "x_train, x_test = x_train / 255.0, x_test / 255.0"
      ],
      "execution_count": 0,
      "outputs": []
    },
    {
      "cell_type": "code",
      "metadata": {
        "id": "PT-sV46Vdth9",
        "colab_type": "code",
        "colab": {}
      },
      "source": [
        "model = tf.keras.models.Sequential([\n",
        "  tf.keras.layers.Flatten(input_shape=(28, 28)),\n",
        "  tf.keras.layers.Dropout(0.2),\n",
        "  tf.keras.layers.Dense(128, activation='relu'),\n",
        "  tf.keras.layers.Dense(60, activation='relu'),\n",
        "  tf.keras.layers.Dropout(0.2),\n",
        "  tf.keras.layers.Dense(10, activation='softmax')\n",
        "])\n"
      ],
      "execution_count": 0,
      "outputs": []
    },
    {
      "cell_type": "code",
      "metadata": {
        "id": "VVVf2aZ9ejpz",
        "colab_type": "code",
        "colab": {}
      },
      "source": [
        "model.compile(optimizer='adam',\n",
        "              loss='sparse_categorical_crossentropy',\n",
        "              metrics=['accuracy'])"
      ],
      "execution_count": 0,
      "outputs": []
    },
    {
      "cell_type": "code",
      "metadata": {
        "id": "GVgomh31cDhb",
        "colab_type": "code",
        "colab": {
          "base_uri": "https://localhost:8080/",
          "height": 377
        },
        "outputId": "28152b27-369f-48d5-86df-e9cb68b126de"
      },
      "source": [
        "model.fit(x_train, y_train, epochs=8)\n",
        "\n",
        "testacc = model.evaluate(x_test,  y_test, verbose=2)\n",
        "print('\\nTest accuracy:', testacc[1])"
      ],
      "execution_count": 33,
      "outputs": [
        {
          "output_type": "stream",
          "text": [
            "Train on 60000 samples\n",
            "Epoch 1/8\n",
            "60000/60000 [==============================] - 6s 107us/sample - loss: 0.0461 - accuracy: 0.9846\n",
            "Epoch 2/8\n",
            "60000/60000 [==============================] - 6s 106us/sample - loss: 0.0451 - accuracy: 0.9853\n",
            "Epoch 3/8\n",
            "60000/60000 [==============================] - 6s 107us/sample - loss: 0.0425 - accuracy: 0.9864\n",
            "Epoch 4/8\n",
            "60000/60000 [==============================] - 7s 111us/sample - loss: 0.0421 - accuracy: 0.9861\n",
            "Epoch 5/8\n",
            "60000/60000 [==============================] - 7s 112us/sample - loss: 0.0392 - accuracy: 0.9868\n",
            "Epoch 6/8\n",
            "60000/60000 [==============================] - 6s 106us/sample - loss: 0.0381 - accuracy: 0.9875\n",
            "Epoch 7/8\n",
            "60000/60000 [==============================] - 6s 106us/sample - loss: 0.0387 - accuracy: 0.9874\n",
            "Epoch 8/8\n",
            "60000/60000 [==============================] - 6s 106us/sample - loss: 0.0353 - accuracy: 0.9881\n",
            "10000/1 - 0s - loss: 0.0336 - accuracy: 0.9838\n",
            "\n",
            "Test accuracy: [0.06692937038806067, 0.9838]\n"
          ],
          "name": "stdout"
        }
      ]
    },
    {
      "cell_type": "code",
      "metadata": {
        "id": "IhfyW3fqeg4j",
        "colab_type": "code",
        "colab": {
          "base_uri": "https://localhost:8080/",
          "height": 35
        },
        "outputId": "74472767-c120-4498-96dd-c462d1e3ede7"
      },
      "source": [
        "print( testacc[1])"
      ],
      "execution_count": 34,
      "outputs": [
        {
          "output_type": "stream",
          "text": [
            "0.9838\n"
          ],
          "name": "stdout"
        }
      ]
    },
    {
      "cell_type": "markdown",
      "metadata": {
        "id": "K0qYcrnigCEN",
        "colab_type": "text"
      },
      "source": [
        "Classifier는 이 데이터셋에서 약 98.4%의 accuracy를 가집니다."
      ]
    }
  ]
}