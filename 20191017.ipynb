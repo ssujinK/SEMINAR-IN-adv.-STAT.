{
  "nbformat": 4,
  "nbformat_minor": 0,
  "metadata": {
    "colab": {
      "name": "20191017.ipynb",
      "provenance": [],
      "include_colab_link": true
    },
    "kernelspec": {
      "name": "python3",
      "display_name": "Python 3"
    }
  },
  "cells": [
    {
      "cell_type": "markdown",
      "metadata": {
        "id": "view-in-github",
        "colab_type": "text"
      },
      "source": [
        "<a href=\"https://colab.research.google.com/github/ssujinK/SEMINAR-IN-adv.-STAT./blob/master/20191017.ipynb\" target=\"_parent\"><img src=\"https://colab.research.google.com/assets/colab-badge.svg\" alt=\"Open In Colab\"/></a>"
      ]
    },
    {
      "cell_type": "code",
      "metadata": {
        "id": "FdkEam3tBvxv",
        "colab_type": "code",
        "colab": {}
      },
      "source": [
        ""
      ],
      "execution_count": 0,
      "outputs": []
    },
    {
      "cell_type": "markdown",
      "metadata": {
        "id": "shuJMUaUCSf8",
        "colab_type": "text"
      },
      "source": [
        "## Binary Classification\n",
        "Dimension for x is 64x64x3(RGB) = 12288"
      ]
    },
    {
      "cell_type": "markdown",
      "metadata": {
        "id": "PGJR3GTuCRvA",
        "colab_type": "text"
      },
      "source": [
        ""
      ]
    }
  ]
}