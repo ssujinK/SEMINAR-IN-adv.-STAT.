{
  "nbformat": 4,
  "nbformat_minor": 0,
  "metadata": {
    "colab": {
      "name": "20191017.ipynb",
      "provenance": [],
      "include_colab_link": true
    },
    "kernelspec": {
      "name": "python3",
      "display_name": "Python 3"
    }
  },
  "cells": [
    {
      "cell_type": "markdown",
      "metadata": {
        "id": "view-in-github",
        "colab_type": "text"
      },
      "source": [
        "<a href=\"https://colab.research.google.com/github/ssujinK/SEMINAR-IN-adv.-STAT./blob/master/20191017.ipynb\" target=\"_parent\"><img src=\"https://colab.research.google.com/assets/colab-badge.svg\" alt=\"Open In Colab\"/></a>"
      ]
    },
    {
      "cell_type": "code",
      "metadata": {
        "id": "FdkEam3tBvxv",
        "colab_type": "code",
        "colab": {}
      },
      "source": [
        ""
      ],
      "execution_count": 0,
      "outputs": []
    },
    {
      "cell_type": "markdown",
      "metadata": {
        "id": "shuJMUaUCSf8",
        "colab_type": "text"
      },
      "source": [
        "## Binary Classification\n",
        "Dimension for x is 64x64x3(RGB) = 12288"
      ]
    },
    {
      "cell_type": "markdown",
      "metadata": {
        "id": "PGJR3GTuCRvA",
        "colab_type": "text"
      },
      "source": [
        "bianry classification은 hidden layer가 없는 response variable이 2개인 logistic과 같음"
      ]
    },
    {
      "cell_type": "markdown",
      "metadata": {
        "id": "PaYKTFMeC71b",
        "colab_type": "text"
      },
      "source": [
        "## Loss Function\n",
        "cost function = sum of loss function\n",
        "\n",
        "squared error loss는 문제가 있음(global node X) -> cross entropy loss 사용\n"
      ]
    },
    {
      "cell_type": "markdown",
      "metadata": {
        "id": "ikX6V6EVESpF",
        "colab_type": "text"
      },
      "source": [
        "## Constructing Logistic regression\n",
        "flatten: 2 dim -> 1 dim vector"
      ]
    },
    {
      "cell_type": "markdown",
      "metadata": {
        "id": "xAxULoOdEfAr",
        "colab_type": "text"
      },
      "source": [
        "## Softmax Regression\n",
        "결과가 벡터가 됨  \n",
        "extension of logistic regression  \n",
        "경계선이 선형으로 잡힘"
      ]
    },
    {
      "cell_type": "markdown",
      "metadata": {
        "id": "FRTFbEbMFGbj",
        "colab_type": "text"
      },
      "source": [
        "## Constructing softmax regression\n"
      ]
    },
    {
      "cell_type": "markdown",
      "metadata": {
        "id": "6m8P2phdFRrE",
        "colab_type": "text"
      },
      "source": [
        "## Artificial Neural Networks with one hidden layer\n",
        "기존에는 y = f(x)를 사용\n",
        "-> f(f(x)) - x에 f(x)를 넣어 hidden layer 생성\n",
        "relu가 빠름\n",
        "\n",
        "karas.layers.Dense(50(#50 차원), activation='relu')\n",
        "karas.layers.Dense(10, activation='softmax')\n",
        "\n",
        "이런식으로 layer 추가할 수 있음"
      ]
    },
    {
      "cell_type": "markdown",
      "metadata": {
        "id": "it8NTC6pFTR5",
        "colab_type": "text"
      },
      "source": [
        "## ANN with multiple hidden layers\n"
      ]
    },
    {
      "cell_type": "markdown",
      "metadata": {
        "id": "MLNz5vwbFTYm",
        "colab_type": "text"
      },
      "source": [
        "<https://colab.research.google.com/github/tensorflow/docs/blob/master/site/ko/tutorials/keras/classification.ipynb?hl=ko#scrollTo=jL3OqFKZ9dFg>\n",
        "\n",
        "모델구성 > 층 설정 > karas.layers.Dense"
      ]
    },
    {
      "cell_type": "markdown",
      "metadata": {
        "id": "Qw3ey_EXFTbP",
        "colab_type": "text"
      },
      "source": [
        "## Train / Dev / Test set\n",
        "\n",
        "### train set / test set  \n",
        "under fitting - too simple to explain the variance  \n",
        "overfitting - forcefitting to good to be true, dev set에 대한 accuracy가 낮아짐  \n",
        "'-> train accuracy가 test accuracy보다 크더라도 근소하면 overfitting 아님  \n",
        "traditionally, 7:3 for train and dev  \n",
        "***over fitting을 피해야 함***\n",
        "\n",
        "### dev set(validation set(?))\n",
        "train set과 다른 환경에서 나온 data set  \n",
        "noise가 많은 환경에서 나온 data set  \n",
        "여러 환경에 대해 잘 적합시키기 위해서 두는 data set\n",
        "  \n",
        "large train set -> accuracy 높음. with big data, 98:1:1\n"
      ]
    },
    {
      "cell_type": "markdown",
      "metadata": {
        "id": "Z1z-k7zLFTd_",
        "colab_type": "text"
      },
      "source": [
        "## Check accuracy on train / dev\n",
        "\n",
        "10,000개 중 9,900개는 정상, 100개는 고장 -> accuracy 99% -> 다른 척도를 사용하는 것이 좋음  \n",
        "ex) 정상 set의 error rate과 고장 set의 rate을 같게 만들어 줌  \n",
        "고장 set의 loss에 weight를 줌"
      ]
    },
    {
      "cell_type": "markdown",
      "metadata": {
        "id": "D5q7g4CoJYKx",
        "colab_type": "text"
      },
      "source": [
        "## Regularization\n",
        "- L1, L2  \n",
        "weight가 크면 과적합 될 수 있음  \n",
        "parameter가 커지는 것을 막기 위해 parameter를 cost에 넣음(penalty)  \n",
        "\n"
      ]
    },
    {
      "cell_type": "markdown",
      "metadata": {
        "id": "p08_wSs_MWes",
        "colab_type": "text"
      },
      "source": [
        "## Dropout Regularization\n",
        "- standard neural network  \n",
        "특정 노드의 큰 가중치가 있는 것이 적합될 수 있음\n",
        "similar with random forest idea  \n",
        "'-> dropout"
      ]
    },
    {
      "cell_type": "markdown",
      "metadata": {
        "id": "5A54jN7RMXRR",
        "colab_type": "text"
      },
      "source": [
        "## Codes for Regularization\n",
        "- L2, L1  \n",
        "keras.layers.Dense( , , , , l2())  \n",
        "keras.layers.Dense( , , , , l1())\n",
        "\n",
        "- Dropout\n",
        "keras.layers.Dropout(0.xx) # xx % 만큼 dropout"
      ]
    },
    {
      "cell_type": "markdown",
      "metadata": {
        "id": "Bw9tfwaqMXTl",
        "colab_type": "text"
      },
      "source": [
        "## Early Stopping\n",
        "training 시킬 때 dev set의 error를 tracking 하다가 다시 증가하는 시점에서 early stopping\n",
        "\n"
      ]
    },
    {
      "cell_type": "markdown",
      "metadata": {
        "id": "wqaAJjIxMXV7",
        "colab_type": "text"
      },
      "source": [
        "## Codes for Early Stopping\n",
        "\n",
        "model.fit(, , , ,   \n",
        "validation_data = ( , ),  \n",
        "callbacks=[ealrystop] )    #early stopping"
      ]
    },
    {
      "cell_type": "markdown",
      "metadata": {
        "id": "GKDJhaUPMXYg",
        "colab_type": "text"
      },
      "source": [
        "## Normalizing inputs\n",
        "- gradient  \n",
        "수직인 벡터를 찾으면서 수렴하기 때문에 느림  \n",
        "'-> normalization 해주면 수렴 속도 빠름"
      ]
    },
    {
      "cell_type": "markdown",
      "metadata": {
        "id": "qJ3xycIGSHX5",
        "colab_type": "text"
      },
      "source": [
        "## Gradient Decent with Momentum\n",
        "gradient decent에 momentum을 적용한 것"
      ]
    },
    {
      "cell_type": "markdown",
      "metadata": {
        "id": "M2QOtwcJSHUz",
        "colab_type": "text"
      },
      "source": [
        "## Learning rate decay / adaptive learning rate\n",
        "- Learning rate decay  \n",
        "learning rate을 너무 크게 잡으면 잘 수렴되지 않음  \n",
        "해 근처에서 튀는 경우 수렴될 수 있도록 learning rate을 수정해 줌  \n",
        "\n",
        "- adaptive learning rate\n",
        "learning rate 자체를 adaptive하게 바꿈... 이 무슨 말이지\n",
        "\n",
        "\n",
        "### code\n",
        "- model.compile(optimizer='RMSprop', loss=' ', metrics=['   '])  \n",
        "- model.compile(optimizer='adam', loss=' ', metrics=['   '])  \n",
        "  \n",
        "- optimizer를 만들어 사용할 수도 있음 (↓이렇게)  \n",
        "from keras import optimizers  \n",
        "'**sgd** = optimizers.SGD(lr=0.01, decay=1e-6, momentum=0.9, nesterov=True)  \n",
        "model.compile(optimizer='**sgd**', loss='sparse_categorical_crossentropy',  metrics=['accuracy'])\n",
        "\n",
        "- learning rrate scheculer  \n",
        "keras.callbacks.callbacks.LearningRateScheduler(schedule, verbose=0)"
      ]
    },
    {
      "cell_type": "markdown",
      "metadata": {
        "id": "GjvZuQVUSHSR",
        "colab_type": "text"
      },
      "source": [
        "## Batch Normalization\n",
        "\n",
        "각 층 input cell에서 평균, 분산을 고려하여 nomarlization  \n",
        "'-> to speed up learning  \n",
        "keras.layer.BatchNormalization()  \n"
      ]
    },
    {
      "cell_type": "markdown",
      "metadata": {
        "id": "gTzVdQmxSHPh",
        "colab_type": "text"
      },
      "source": [
        ""
      ]
    },
    {
      "cell_type": "markdown",
      "metadata": {
        "id": "HGKLSGObSHMq",
        "colab_type": "text"
      },
      "source": [
        ""
      ]
    },
    {
      "cell_type": "markdown",
      "metadata": {
        "id": "iATAL9J_SHFN",
        "colab_type": "text"
      },
      "source": [
        ""
      ]
    },
    {
      "cell_type": "markdown",
      "metadata": {
        "id": "CGaRIvb6MWT6",
        "colab_type": "text"
      },
      "source": [
        "# 중간고사\n",
        "- R for data science: visualization (section3), data manipulation (section5), tidyr (section12) https://r4ds.had.co.nz/\n",
        " \n",
        "- 점프투 파이썬: 2~4장\n",
        "\n",
        "- 딥러닝: model 정의(keras)  \n",
        "주어진 accuracy보다 높은 model 제시  \n",
        "layer 추가, dropout"
      ]
    },
    {
      "cell_type": "markdown",
      "metadata": {
        "id": "2JF8duDwR3nU",
        "colab_type": "text"
      },
      "source": [
        ""
      ]
    }
  ]
}